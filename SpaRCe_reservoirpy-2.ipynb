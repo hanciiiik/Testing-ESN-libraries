{
  "nbformat": 4,
  "nbformat_minor": 0,
  "metadata": {
    "colab": {
      "provenance": []
    },
    "kernelspec": {
      "name": "python3",
      "display_name": "Python 3"
    },
    "language_info": {
      "name": "python"
    }
  },
  "cells": [
    {
      "cell_type": "markdown",
      "source": [
        "# **Implementation of SpaRCe model using ReservoirPy library**\n",
        "\n",
        "---\n",
        "\n"
      ],
      "metadata": {
        "id": "cdvnWy1OZO_k"
      }
    },
    {
      "cell_type": "code",
      "source": [
        "pip install reservoirpy"
      ],
      "metadata": {
        "colab": {
          "base_uri": "https://localhost:8080/"
        },
        "id": "YmFqxE0LZpGB",
        "outputId": "ebeb414c-8721-4645-93db-518f67c64406"
      },
      "execution_count": 1,
      "outputs": [
        {
          "output_type": "stream",
          "name": "stdout",
          "text": [
            "Collecting reservoirpy\n",
            "  Downloading reservoirpy-0.3.11-py3-none-any.whl.metadata (13 kB)\n",
            "Collecting dill>=0.3.1.1 (from reservoirpy)\n",
            "  Downloading dill-0.3.9-py3-none-any.whl.metadata (10 kB)\n",
            "Requirement already satisfied: joblib>=0.14.1 in /usr/local/lib/python3.10/dist-packages (from reservoirpy) (1.4.2)\n",
            "Requirement already satisfied: numpy>=1.21.1 in /usr/local/lib/python3.10/dist-packages (from reservoirpy) (1.26.4)\n",
            "Requirement already satisfied: scipy>=1.4.1 in /usr/local/lib/python3.10/dist-packages (from reservoirpy) (1.13.1)\n",
            "Requirement already satisfied: tqdm>=4.43.0 in /usr/local/lib/python3.10/dist-packages (from reservoirpy) (4.66.6)\n",
            "Downloading reservoirpy-0.3.11-py3-none-any.whl (176 kB)\n",
            "\u001b[2K   \u001b[90m━━━━━━━━━━━━━━━━━━━━━━━━━━━━━━━━━━━━━━━━\u001b[0m \u001b[32m176.9/176.9 kB\u001b[0m \u001b[31m2.8 MB/s\u001b[0m eta \u001b[36m0:00:00\u001b[0m\n",
            "\u001b[?25hDownloading dill-0.3.9-py3-none-any.whl (119 kB)\n",
            "\u001b[2K   \u001b[90m━━━━━━━━━━━━━━━━━━━━━━━━━━━━━━━━━━━━━━━━\u001b[0m \u001b[32m119.4/119.4 kB\u001b[0m \u001b[31m4.6 MB/s\u001b[0m eta \u001b[36m0:00:00\u001b[0m\n",
            "\u001b[?25hInstalling collected packages: dill, reservoirpy\n",
            "Successfully installed dill-0.3.9 reservoirpy-0.3.11\n"
          ]
        }
      ]
    },
    {
      "cell_type": "markdown",
      "source": [
        "# Loading and scaling **MNIST dataset**"
      ],
      "metadata": {
        "id": "QLvfwcd1b5Nr"
      }
    },
    {
      "cell_type": "code",
      "source": [
        "from tensorflow.keras.datasets import mnist\n",
        "import numpy as np"
      ],
      "metadata": {
        "id": "PTlq-2L6b-yU"
      },
      "execution_count": 2,
      "outputs": []
    },
    {
      "cell_type": "code",
      "source": [
        "# Načítaj MNIST data\n",
        "(x_train, y_train), (x_test, y_test) = mnist.load_data()\n",
        "\n",
        "# Normalizuj dáta\n",
        "x_train = x_train.reshape(-1, 28 * 28) / 255.0\n",
        "x_test = x_test.reshape(-1, 28 * 28) / 255.0\n",
        "\n",
        "# Konverzia tried do one-hot reprezentácie (pre jednoduchšiu prácu s výstupom)\n",
        "y_train_onehot = np.eye(10)[y_train]\n",
        "y_test_onehot = np.eye(10)[y_test]"
      ],
      "metadata": {
        "colab": {
          "base_uri": "https://localhost:8080/"
        },
        "id": "chaJCVu0qr3v",
        "outputId": "ca20f4a3-2c81-4edd-aec8-e42f2ae5ad50"
      },
      "execution_count": 3,
      "outputs": [
        {
          "output_type": "stream",
          "name": "stdout",
          "text": [
            "Downloading data from https://storage.googleapis.com/tensorflow/tf-keras-datasets/mnist.npz\n",
            "\u001b[1m11490434/11490434\u001b[0m \u001b[32m━━━━━━━━━━━━━━━━━━━━\u001b[0m\u001b[37m\u001b[0m \u001b[1m0s\u001b[0m 0us/step\n"
          ]
        }
      ]
    },
    {
      "cell_type": "markdown",
      "source": [
        "# **Definícia modelu ESN**"
      ],
      "metadata": {
        "id": "U9VsTOePtZVg"
      }
    },
    {
      "cell_type": "code",
      "source": [
        "# zatial neskor"
      ],
      "metadata": {
        "id": "OqWyrlQutcbB"
      },
      "execution_count": null,
      "outputs": []
    },
    {
      "cell_type": "markdown",
      "source": [
        "# **Krok 2: Inicializácia SpaRCe prahových hodnôt**\n",
        "\n",
        "\n"
      ],
      "metadata": {
        "id": "v0FdJLQkr0-0"
      }
    },
    {
      "cell_type": "code",
      "source": [
        "# Percentil prahu pre sparsity\n",
        "n_percentile = 90  # Hodnota sparsity (percentil), nastaviteľná podľa článku\n",
        "initial_thresholds = np.percentile(np.abs(x_train), n_percentile, axis=0)\n",
        "\n",
        "# Inicializácia prahov (theta) na základe percentilu\n",
        "thresholds = np.copy(initial_thresholds)  # Inicializácia prahov pre každý neurón"
      ],
      "metadata": {
        "id": "k7o3RPYPr0d-"
      },
      "execution_count": 5,
      "outputs": []
    },
    {
      "cell_type": "markdown",
      "source": [
        "# **Krok 3: Thresholding SpaRCe**"
      ],
      "metadata": {
        "id": "9uE1vYDzsZ0e"
      }
    },
    {
      "cell_type": "code",
      "source": [
        "def apply_threshold(V_tilde, thresholds):     # metóda aplikuje prahy na s aktuálnym stavom rezervoára a vráti X -\n",
        "    # Vypočítaj x ako sparse variantu výstupu s prahmi\n",
        "    sign_V = np.sign(V_tilde)\n",
        "    relu_V = np.maximum(0, np.abs(V_tilde) - thresholds)\n",
        "    return sign_V * relu_V  # ekvivalent x_i"
      ],
      "metadata": {
        "id": "_G6dwQ7UsqEY"
      },
      "execution_count": 6,
      "outputs": []
    },
    {
      "cell_type": "markdown",
      "source": [
        "# Creating a **sparse reservoir**"
      ],
      "metadata": {
        "id": "svwmDw3KcTMV"
      }
    },
    {
      "cell_type": "code",
      "source": [
        "# Import\n",
        "from reservoirpy.nodes import Reservoir, Ridge\n",
        "from reservoirpy import mat_gen"
      ],
      "metadata": {
        "id": "MKW49ASotntw"
      },
      "execution_count": 7,
      "outputs": []
    },
    {
      "cell_type": "code",
      "source": [
        "# Nastavenie parametrov ESN modelu\n",
        "input_dim = 28 * 28  # MNIST obrazky majú 28x28 pixelov\n",
        "reservoir_size = 500  # počet neurónov v rezervoári\n",
        "spectral_radius = 0.9  # spektrálny polomer, ktorý kontroluje stabilitu\n",
        "\n",
        "def generate_sparse_matrix(size, connectivity, radius):\n",
        "    W = np.random.randn(size, size) * (radius / np.sqrt(size))\n",
        "    mask = np.random.rand(size, size) < connectivity\n",
        "    W[~mask] = 0\n",
        "    return W\n",
        "\n",
        "# Generovanie náhodnej rezervoárovej matice (W) s požadovanou sparsitou\n",
        "W = generate_sparse_matrix(reservoir_size, connectivity=0.1, radius=spectral_radius)\n",
        "\n",
        "# Definícia ESN modelu\n",
        "reservoir = Reservoir(\n",
        "    input_dim=input_dim,\n",
        "    units=reservoir_size,\n",
        "    W=W,  # nastavíme W podľa požadovaných parametrov\n",
        "    input_scaling=0.5,  # gamma faktor vstupu\n",
        "    bias_scaling=0.1,\n",
        "    lr=0.1  # časová mierka α\n",
        ")\n",
        "\n",
        "# Ridge regression pre lineárny výstup\n",
        "ridge = Ridge(ridge=1e-6)\n",
        "W_out = np.random.randn(reservoir_size, 10) * 0.1  # výstupná matica W_out"
      ],
      "metadata": {
        "id": "Y_W9pFndttd-"
      },
      "execution_count": 8,
      "outputs": []
    },
    {
      "cell_type": "markdown",
      "source": [
        "# **Krok 4: Tréning s aktualizáciou prahov**"
      ],
      "metadata": {
        "id": "eia0z0iWwTcr"
      }
    },
    {
      "cell_type": "code",
      "source": [
        "learning_rate_theta = 0.01  # rýchlosť učenia prahov\n",
        "learning_rate_W = 0.001  # rýchlosť učenia váh výstupu\n",
        "num_epochs = 10  # počet epôch\n",
        "\n",
        "# Gradientný krok pre každý vzor v tréningovej množine\n",
        "for epoch in range(num_epochs):\n",
        "    for i, (V_tilde, y_target) in enumerate(zip(x_train, y_train_onehot)):\n",
        "        # Vypočítame sparse výstup s prahmi\n",
        "        x_sparse = apply_threshold(V_tilde, thresholds)\n",
        "\n",
        "        # Chyba a gradient pre váhy výstupu a prahy\n",
        "        print(\"W_out.shape:\", W_out.shape)\n",
        "        print(\"V_tilde.shape:\", V_tilde.shape)\n",
        "        print(\"x_sparse:\", x_sparse.shape)\n",
        "        y = W_out@V_tilde\n",
        "        error = y_target - np.dot(W_out, x_sparse)  # chyba výstupu\n",
        "        dW_out = np.outer(error, x_sparse)  # gradient pre W_out\n",
        "\n",
        "        # Aktualizácia prahov (theta) podľa gradientného kroku\n",
        "        delta_theta1 = np.sum(y_target * W_out.T * np.sign(x_sparse), axis=0)\n",
        "        delta_theta2 = -W_out[y_target.argmax()] * np.sign(x_sparse)\n",
        "\n",
        "        # Aktualizácia prahov (theta)\n",
        "        thresholds += learning_rate_theta * (delta_theta1 + delta_theta2)\n",
        "\n",
        "        # Aktualizácia výstupnej váhovej matice W_out\n",
        "        W_out += learning_rate_W * dW_out  # aktualizácia váh výstupu\n"
      ],
      "metadata": {
        "colab": {
          "base_uri": "https://localhost:8080/",
          "height": 258
        },
        "id": "inaHHGo3we_u",
        "outputId": "a27e08aa-2ce1-41ec-d1c4-394118942056"
      },
      "execution_count": 11,
      "outputs": [
        {
          "output_type": "stream",
          "name": "stdout",
          "text": [
            "W_out.shape: (500, 10)\n",
            "V_tilde.shape: (784,)\n",
            "x_sparse: (784,)\n"
          ]
        },
        {
          "output_type": "error",
          "ename": "ValueError",
          "evalue": "matmul: Input operand 1 has a mismatch in its core dimension 0, with gufunc signature (n?,k),(k,m?)->(n?,m?) (size 784 is different from 10)",
          "traceback": [
            "\u001b[0;31m---------------------------------------------------------------------------\u001b[0m",
            "\u001b[0;31mValueError\u001b[0m                                Traceback (most recent call last)",
            "\u001b[0;32m<ipython-input-11-87ff9f3011a1>\u001b[0m in \u001b[0;36m<cell line: 6>\u001b[0;34m()\u001b[0m\n\u001b[1;32m     13\u001b[0m         \u001b[0mprint\u001b[0m\u001b[0;34m(\u001b[0m\u001b[0;34m\"V_tilde.shape:\"\u001b[0m\u001b[0;34m,\u001b[0m \u001b[0mV_tilde\u001b[0m\u001b[0;34m.\u001b[0m\u001b[0mshape\u001b[0m\u001b[0;34m)\u001b[0m\u001b[0;34m\u001b[0m\u001b[0;34m\u001b[0m\u001b[0m\n\u001b[1;32m     14\u001b[0m         \u001b[0mprint\u001b[0m\u001b[0;34m(\u001b[0m\u001b[0;34m\"x_sparse:\"\u001b[0m\u001b[0;34m,\u001b[0m \u001b[0mx_sparse\u001b[0m\u001b[0;34m.\u001b[0m\u001b[0mshape\u001b[0m\u001b[0;34m)\u001b[0m\u001b[0;34m\u001b[0m\u001b[0;34m\u001b[0m\u001b[0m\n\u001b[0;32m---> 15\u001b[0;31m         \u001b[0my\u001b[0m \u001b[0;34m=\u001b[0m \u001b[0mW_out\u001b[0m\u001b[0;34m@\u001b[0m\u001b[0mV_tilde\u001b[0m\u001b[0;34m\u001b[0m\u001b[0;34m\u001b[0m\u001b[0m\n\u001b[0m\u001b[1;32m     16\u001b[0m         \u001b[0merror\u001b[0m \u001b[0;34m=\u001b[0m \u001b[0my_target\u001b[0m \u001b[0;34m-\u001b[0m \u001b[0mnp\u001b[0m\u001b[0;34m.\u001b[0m\u001b[0mdot\u001b[0m\u001b[0;34m(\u001b[0m\u001b[0mW_out\u001b[0m\u001b[0;34m,\u001b[0m \u001b[0mx_sparse\u001b[0m\u001b[0;34m)\u001b[0m  \u001b[0;31m# chyba výstupu\u001b[0m\u001b[0;34m\u001b[0m\u001b[0;34m\u001b[0m\u001b[0m\n\u001b[1;32m     17\u001b[0m         \u001b[0mdW_out\u001b[0m \u001b[0;34m=\u001b[0m \u001b[0mnp\u001b[0m\u001b[0;34m.\u001b[0m\u001b[0mouter\u001b[0m\u001b[0;34m(\u001b[0m\u001b[0merror\u001b[0m\u001b[0;34m,\u001b[0m \u001b[0mx_sparse\u001b[0m\u001b[0;34m)\u001b[0m  \u001b[0;31m# gradient pre W_out\u001b[0m\u001b[0;34m\u001b[0m\u001b[0;34m\u001b[0m\u001b[0m\n",
            "\u001b[0;31mValueError\u001b[0m: matmul: Input operand 1 has a mismatch in its core dimension 0, with gufunc signature (n?,k),(k,m?)->(n?,m?) (size 784 is different from 10)"
          ]
        }
      ]
    },
    {
      "cell_type": "markdown",
      "source": [
        "# **Krok 5: Vyhodnotenie modelu**"
      ],
      "metadata": {
        "id": "blQrTDmnwnxK"
      }
    },
    {
      "cell_type": "code",
      "source": [
        "# Vyhodnotenie na testovacej množine\n",
        "correct = 0\n",
        "for i, V_tilde in enumerate(x_test):\n",
        "    x_sparse = apply_threshold(V_tilde, thresholds)\n",
        "    y_pred = np.dot(W_out.T, x_sparse)\n",
        "    if y_pred.argmax() == y_test[i]:\n",
        "        correct += 1\n",
        "\n",
        "accuracy = correct / len(x_test)\n",
        "print(f\"Test accuracy: {accuracy * 100:.2f}%\")"
      ],
      "metadata": {
        "id": "An-tD6oSwshg"
      },
      "execution_count": null,
      "outputs": []
    }
  ]
}